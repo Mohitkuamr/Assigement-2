{
 "cells": [
  {
   "cell_type": "markdown",
   "id": "db44de47-6750-4e49-ad6c-fe7b16a3ab40",
   "metadata": {},
   "source": [
    "Ans.1 = The keyword used to create a function is \"def\". Here's an example function to return a list of odd numbers in the range of 1 to 25:\n",
    "\n",
    "```\n",
    "def get_odd_numbers():\n",
    "odd_numbers = []\n",
    "for i in range(1, 26):\n",
    "if i % 2 == 1:\n",
    "odd_numbers.append(i)\n",
    "return odd_numbers\n",
    "```"
   ]
  },
  {
   "cell_type": "markdown",
   "id": "fc9cdc99-b714-467e-a362-d3edcc9075d6",
   "metadata": {},
   "source": [
    "Ans.2 =   (1) =*args (Non Keyword Arguments)\n",
    "           (2) = **kwargs (Keyword Arguments)\n",
    "         \n",
    "         , here are examples of functions that use `*args` and `**kwargs`:\n",
    "\n",
    "```\n",
    "# Example function using *args\n",
    "def sum_numbers(*args):\n",
    "total = 0\n",
    "for num in args:\n",
    "total += num\n",
    "return total\n",
    "\n",
    "# Example function using **kwargs\n",
    "def print_info(**kwargs):\n",
    "for key, value in kwargs.items():\n",
    "print(f\"{key}: {value}\")\n",
    "```\n",
    "\n"
   ]
  },
  {
   "cell_type": "markdown",
   "id": "86813bc8-8812-4182-990d-479303b50a02",
   "metadata": {},
   "source": [
    "Ans.3 = An iterator is an object that contains a countable number of values\n",
    "        which consist of the methods __iter__() and __next__() .\n",
    "        To initialize the iterator object, we use the `iter()` method. To iterate over the elements of the iterator, we use the `next()` method.\n",
    "\n",
    "Here's an example code to print the first five elements of the given list using these methods:\n",
    "\n",
    "```\n",
    "my_list = [2, 4, 6, 8, 10, 12, 14, 16, 18, 20]\n",
    "\n",
    " initialize the iterator object\n",
    "my_iterator = iter(my_list)\n",
    "\n",
    " iterate"
   ]
  },
  {
   "cell_type": "markdown",
   "id": "ebd71807-d8b0-416b-b85f-709e5b46b1dd",
   "metadata": {},
   "source": [
    "Ans.4 = A Python generator function allows you to declare a function that behaves like an iterator providing a faster and easier way to create iterators.\n",
    "        The yield statement returns a generator object to the one who calls the function which contains yield, instead of simply returning a value.\n",
    "        \n",
    "        \n",
    "        \n",
    "        def simpleGeneratorFun():\n",
    "    yield 1           \n",
    "    yield 2           \n",
    "    yield 3           \n",
    "  \n",
    "\n",
    "        for value in simpleGeneratorFun():\n",
    "        print(value)\n",
    "        \n",
    "       output = 1\n",
    "                2\n",
    "                3"
   ]
  },
  {
   "cell_type": "markdown",
   "id": "a9ffa92e-829f-4dcb-9cc0-ddd839b67e74",
   "metadata": {},
   "source": [
    "Ans.5 = def prime_generator():\n",
    "            primes = []\n",
    "            num = 2 \n",
    "            while num < 1000:\n",
    "             is_prime = True\n",
    "            for prime in primes:\n",
    "            if num % prime == 0 :\n",
    "            is_prime = False\n",
    "             break\n",
    "             if is_prime:\n",
    "              primes.append(num)\n",
    "              yield"
   ]
  }
 ],
 "metadata": {
  "kernelspec": {
   "display_name": "Python 3 (ipykernel)",
   "language": "python",
   "name": "python3"
  },
  "language_info": {
   "codemirror_mode": {
    "name": "ipython",
    "version": 3
   },
   "file_extension": ".py",
   "mimetype": "text/x-python",
   "name": "python",
   "nbconvert_exporter": "python",
   "pygments_lexer": "ipython3",
   "version": "3.10.8"
  }
 },
 "nbformat": 4,
 "nbformat_minor": 5
}
